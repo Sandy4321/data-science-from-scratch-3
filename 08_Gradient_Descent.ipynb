{
 "cells": [
  {
   "cell_type": "markdown",
   "metadata": {},
   "source": [
    "# Gradient Descent"
   ]
  },
  {
   "cell_type": "code",
   "execution_count": 2,
   "metadata": {},
   "outputs": [],
   "source": [
    "from typing import List\n",
    "\n",
    "Vector = List[float]\n",
    "\n",
    "def dot(v: Vector, w: Vector) -> float:\n",
    "    \"\"\"Computes v_1 * w_1 + ... + v_n * w_n\"\"\"\n",
    "    assert len(v) == len(w), \"vectors must be same length\"\n",
    "\n",
    "    return sum(v_i * w_i for v_i, w_i in zip(v, w))\n",
    "\n",
    "assert dot([1, 2, 3], [4, 5, 6]) == 32  # 1 * 4 + 2 * 5 + 3 * 6"
   ]
  },
  {
   "cell_type": "code",
   "execution_count": 48,
   "metadata": {},
   "outputs": [],
   "source": [
    "def sum_of_squares(v: Vector) -> float:\n",
    "    '''Computes the sum of squared elements of v'''\n",
    "    return dot(v, v)"
   ]
  },
  {
   "cell_type": "code",
   "execution_count": 3,
   "metadata": {},
   "outputs": [],
   "source": [
    "# Frameworks expecting callback functions of specific signatures \n",
    "# might be type hinted using Callable[[Arg1Type, Arg2Type], ReturnType].\n",
    "# https://docs.python.org/3/library/typing.html#callable\n",
    "\n",
    "from typing import Callable\n",
    "\n",
    "def difference_quotient(f: Callable[[float], float], x: float, h: float) -> float:\n",
    "    return (f(x + h) - f(x)) / h"
   ]
  },
  {
   "cell_type": "code",
   "execution_count": 8,
   "metadata": {},
   "outputs": [],
   "source": [
    "def square(x: float) -> float:\n",
    "    return x * x\n",
    "\n",
    "def deriverative(x: float) -> float:\n",
    "    return 2 * x"
   ]
  },
  {
   "cell_type": "code",
   "execution_count": 6,
   "metadata": {},
   "outputs": [
    {
     "data": {
      "text/plain": [
       "[-10, -9, -8, -7, -6, -5, -4, -3, -2, -1, 0, 1, 2, 3, 4, 5, 6, 7, 8, 9, 10]"
      ]
     },
     "execution_count": 6,
     "metadata": {},
     "output_type": "execute_result"
    }
   ],
   "source": [
    "xs = range(-10, 11)\n",
    "list(xs)"
   ]
  },
  {
   "cell_type": "code",
   "execution_count": 10,
   "metadata": {},
   "outputs": [
    {
     "data": {
      "text/plain": [
       "[-20,\n",
       " -18,\n",
       " -16,\n",
       " -14,\n",
       " -12,\n",
       " -10,\n",
       " -8,\n",
       " -6,\n",
       " -4,\n",
       " -2,\n",
       " 0,\n",
       " 2,\n",
       " 4,\n",
       " 6,\n",
       " 8,\n",
       " 10,\n",
       " 12,\n",
       " 14,\n",
       " 16,\n",
       " 18,\n",
       " 20]"
      ]
     },
     "execution_count": 10,
     "metadata": {},
     "output_type": "execute_result"
    }
   ],
   "source": [
    "actuals = [deriverative(x) for x in xs]\n",
    "actuals"
   ]
  },
  {
   "cell_type": "code",
   "execution_count": 17,
   "metadata": {},
   "outputs": [
    {
     "data": {
      "text/plain": [
       "[-19.998999999984335,\n",
       " -17.998999999988996,\n",
       " -15.999000000007868,\n",
       " -13.999000000005424,\n",
       " -11.99900000000298,\n",
       " -9.999000000004088,\n",
       " -7.998999999999867,\n",
       " -5.998999999999199,\n",
       " -3.9989999999994197,\n",
       " -1.998999999999973,\n",
       " 0.001,\n",
       " 2.0009999999996975,\n",
       " 4.000999999999699,\n",
       " 6.000999999999479,\n",
       " 8.0010000000037,\n",
       " 10.001000000002591,\n",
       " 12.001000000005035,\n",
       " 14.00100000000748,\n",
       " 16.000999999988608,\n",
       " 18.000999999983947,\n",
       " 20.000999999993496]"
      ]
     },
     "execution_count": 17,
     "metadata": {},
     "output_type": "execute_result"
    }
   ],
   "source": [
    "estimates = [difference_quotient(square, x, h=0.001) for x in xs]\n",
    "estimates"
   ]
  },
  {
   "cell_type": "code",
   "execution_count": 22,
   "metadata": {},
   "outputs": [
    {
     "data": {
      "image/png": "[encoded data removed]",
      "text/plain": [
       "<Figure size 432x288 with 1 Axes>"
      ]
     },
     "metadata": {
      "needs_background": "light"
     },
     "output_type": "display_data"
    }
   ],
   "source": [
    "import matplotlib.pyplot as plt\n",
    "%matplotlib inline\n",
    "plt.title(\"Actual Derivatives vs. Estimates\")\n",
    "plt.plot(xs, actuals, 'rx', label='Actual')\n",
    "plt.plot(xs, estimates, 'b+', label='Estimate')\n",
    "plt.legend(loc=9)\n",
    "plt.savefig('images/deriveratives.png')\n",
    "plt.show();"
   ]
  },
  {
   "cell_type": "code",
   "execution_count": 27,
   "metadata": {},
   "outputs": [],
   "source": [
    "# The enumerate object yields pairs containing a count (from start, which\n",
    "# defaults to zero) and a value yielded by the iterable argument.\n",
    "\n",
    "def partial_difference_quotient(f: Callable[[Vector], float],\n",
    "                               v: Vector,\n",
    "                               i: int,\n",
    "                               h: float) -> float:\n",
    "    '''Returns the i=th partial difference quotient of f at v'''\n",
    "    for j, v_j in enumerate(v):\n",
    "        print(j, v_j)"
   ]
  },
  {
   "cell_type": "code",
   "execution_count": 26,
   "metadata": {},
   "outputs": [
    {
     "name": "stdout",
     "output_type": "stream",
     "text": [
      "0 1\n",
      "1 4\n",
      "2 3\n"
     ]
    }
   ],
   "source": [
    "partial_difference_quotient(square, [1, 2, 3], 1, 0.001)"
   ]
  },
  {
   "cell_type": "code",
   "execution_count": 28,
   "metadata": {},
   "outputs": [],
   "source": [
    "def partial_difference_quotient(f: Callable[[Vector], float],\n",
    "                               v: Vector,\n",
    "                               i: int,\n",
    "                               h: float) -> float:\n",
    "    '''Returns the i=th partial difference quotient of f at v'''\n",
    "    w = [v_j + (h if j == i else 0) # add h to just the ith element of v\n",
    "         for j, v_j in enumerate(v)]\n",
    "    return (f(w) - f(v)) / h"
   ]
  },
  {
   "cell_type": "code",
   "execution_count": 29,
   "metadata": {},
   "outputs": [],
   "source": [
    "def estimate_gradient(f: Callable[[Vector], float],\n",
    "                     v: Vector,\n",
    "                     h: float = 0.0001):\n",
    "    return [partial_difference_quotient(f, v, i , h)\n",
    "           for i in range(len(v))]"
   ]
  },
  {
   "cell_type": "code",
   "execution_count": 46,
   "metadata": {},
   "outputs": [],
   "source": [
    "import random\n",
    "import math\n",
    "\n",
    "def add(v: Vector, w: Vector) -> Vector:\n",
    "    \"\"\"Adds corresponding elements\"\"\"\n",
    "    assert len(v) == len(w), \"vectors must be the same length\"\n",
    "    return [v_i + w_i for v_i, w_i in zip(v, w)]\n",
    "\n",
    "def subtract(v: Vector, w: Vector) -> Vector:\n",
    "    \"\"\"Subtracts corresponding elements\"\"\"\n",
    "    assert len(v) == len(w), \"vectors must be the same length\"\n",
    "    return [v_i - w_i for v_i, w_i in zip(v, w)]\n",
    "\n",
    "def scalar_multiply(c: float, v: Vector) -> Vector:\n",
    "    \"\"\"Multiplies every element by c\"\"\"\n",
    "    return [c * v_i for v_i in v]\n",
    "\n",
    "def magnitude(v: Vector) -> float:\n",
    "    \"\"\"Returns the magnitude (or length) of v\"\"\"\n",
    "    return math.sqrt(sum_of_squares(v))   # math.sqrt is square root function\n",
    "\n",
    "def distance(v: Vector, w: Vector) -> float:  # type: ignore\n",
    "    return magnitude(subtract(v, w))"
   ]
  },
  {
   "cell_type": "code",
   "execution_count": 31,
   "metadata": {},
   "outputs": [
    {
     "data": {
      "text/plain": [
       "[8.680660540649157, 1.5398814618718664, 2.9903369412349967]"
      ]
     },
     "execution_count": 31,
     "metadata": {},
     "output_type": "execute_result"
    }
   ],
   "source": [
    "# Get a random number in the range [a, b) or [a, b] depending on rounding.\n",
    "v = [random.uniform(-10, 10) for i in range(3)]\n",
    "v"
   ]
  },
  {
   "cell_type": "code",
   "execution_count": 85,
   "metadata": {},
   "outputs": [
    {
     "data": {
      "text/plain": [
       "[-1.4137844224210756, 7.7417647419816475, 4.368044840186407]"
      ]
     },
     "execution_count": 85,
     "metadata": {},
     "output_type": "execute_result"
    }
   ],
   "source": [
    "def gradient_step(v: Vector, gradient: Vector, step_size: float) -> Vector:\n",
    "    '''Moves \"step_size\" in the \"gradient\" direction from \"v\"'''\n",
    "    assert len(v) == len(gradient)\n",
    "    step = scalar_multiply(step_size, gradient)\n",
    "    return add(v, step)\n",
    "\n",
    "def sum_of_squares_gradient(v: Vector) -> Vector:\n",
    "    return [2 * v_i for v_i in v]\n",
    "\n",
    "# pick a random starting point\n",
    "v = [random.uniform(-10, 10) for i in range(3)]\n",
    "v"
   ]
  },
  {
   "cell_type": "code",
   "execution_count": 86,
   "metadata": {},
   "outputs": [
    {
     "name": "stdout",
     "output_type": "stream",
     "text": [
      "9999 [-2.577152493517081e-88, 1.4112270578603204e-87, 7.962400400764906e-88]\n"
     ]
    }
   ],
   "source": [
    "for epoch in range(10000):\n",
    "    # computer the gradient at v\n",
    "    grad = sum_of_squares_gradient(v)\n",
    "    #print(grad)\n",
    "    # take a negative gradient step (minimalization)\n",
    "    v = gradient_step(v, grad, -0.01)\n",
    "    #print(v)\n",
    "\n",
    "print(epoch, v)\n",
    "\n",
    "assert distance(v, [0,0,0]) < 0.001"
   ]
  },
  {
   "cell_type": "code",
   "execution_count": 113,
   "metadata": {},
   "outputs": [
    {
     "data": {
      "text/plain": [
       "[(-50, -995), (-49, -975), (-48, -955), (-47, -935), (-46, -915)]"
      ]
     },
     "execution_count": 113,
     "metadata": {},
     "output_type": "execute_result"
    }
   ],
   "source": [
    "# x ranges from -50 to 49, y is always 20 * x + 5\n",
    "inputs = [(x, 20*x+5) for x in range(-50, 50)]\n",
    "inputs[:5]"
   ]
  },
  {
   "cell_type": "code",
   "execution_count": 114,
   "metadata": {},
   "outputs": [
    {
     "data": {
      "text/plain": [
       "[(-5, -95),\n",
       " (-4, -75),\n",
       " (-3, -55),\n",
       " (-2, -35),\n",
       " (-1, -15),\n",
       " (0, 5),\n",
       " (1, 25),\n",
       " (2, 45),\n",
       " (3, 65),\n",
       " (4, 85)]"
      ]
     },
     "execution_count": 114,
     "metadata": {},
     "output_type": "execute_result"
    }
   ],
   "source": [
    "inputs[45:55]"
   ]
  },
  {
   "cell_type": "code",
   "execution_count": 115,
   "metadata": {},
   "outputs": [
    {
     "data": {
      "text/plain": [
       "[(45, 905), (46, 925), (47, 945), (48, 965), (49, 985)]"
      ]
     },
     "execution_count": 115,
     "metadata": {},
     "output_type": "execute_result"
    }
   ],
   "source": [
    "inputs[95:]"
   ]
  },
  {
   "cell_type": "code",
   "execution_count": 131,
   "metadata": {},
   "outputs": [],
   "source": [
    "def linear_gradient(x: float, y: float, theta: Vector) -> Vector:\n",
    "    slope, intercept = theta\n",
    "    # the prediction of the model\n",
    "    predicted = slope * x + intercept\n",
    "    # error = predicted - actual\n",
    "    error = (predicted - y)\n",
    "    # we will minimize squared error\n",
    "    squared_error = error ** 2\n",
    "    # using it's gradient\n",
    "    grad = [2 * error * x, 2 * error] # theta * error\n",
    "    #print(grad)\n",
    "    return grad"
   ]
  },
  {
   "cell_type": "code",
   "execution_count": 132,
   "metadata": {},
   "outputs": [
    {
     "data": {
      "text/plain": [
       "[-168, -84]"
      ]
     },
     "execution_count": 132,
     "metadata": {},
     "output_type": "execute_result"
    }
   ],
   "source": [
    "linear_gradient(2, 45, [1,1])"
   ]
  },
  {
   "cell_type": "code",
   "execution_count": 133,
   "metadata": {},
   "outputs": [],
   "source": [
    "def vector_mean(vectors: List[Vector]) -> Vector:\n",
    "    \"\"\"Computes the element-wise average\"\"\"\n",
    "    n = len(vectors)\n",
    "    return scalar_multiply(1/n, vector_sum(vectors))\n",
    "\n",
    "def vector_sum(vectors: List[Vector]) -> Vector:\n",
    "    \"\"\"Sums all corresponding elements\"\"\"\n",
    "    # Check that vectors is not empty\n",
    "    assert vectors, \"no vectors provided!\"\n",
    "\n",
    "    # Check the vectors are all the same size\n",
    "    num_elements = len(vectors[0])\n",
    "    assert all(len(v) == num_elements for v in vectors), \"different sizes!\"\n",
    "\n",
    "    # the i-th element of the result is the sum of every vector[i]\n",
    "    return [sum(vector[i] for vector in vectors)\n",
    "            for i in range(num_elements)]"
   ]
  },
  {
   "cell_type": "code",
   "execution_count": 149,
   "metadata": {},
   "outputs": [
    {
     "data": {
      "text/plain": [
       "[-0.5721743094839724, 0.3551593134780371]"
      ]
     },
     "execution_count": 149,
     "metadata": {},
     "output_type": "execute_result"
    }
   ],
   "source": [
    "# start with a random values for slope and intercept\n",
    "theta = [random.uniform(-1, 1), random.uniform(-1,1)]\n",
    "theta"
   ]
  },
  {
   "cell_type": "code",
   "execution_count": 150,
   "metadata": {},
   "outputs": [],
   "source": [
    "learning_rate = 0.001"
   ]
  },
  {
   "cell_type": "code",
   "execution_count": 151,
   "metadata": {},
   "outputs": [
    {
     "data": {
      "text/plain": [
       "100"
      ]
     },
     "execution_count": 151,
     "metadata": {},
     "output_type": "execute_result"
    }
   ],
   "source": [
    "len(inputs)"
   ]
  },
  {
   "cell_type": "code",
   "execution_count": 152,
   "metadata": {},
   "outputs": [
    {
     "data": {
      "text/plain": [
       "[-34289.16973322326, 11.28249293644018]"
      ]
     },
     "execution_count": 152,
     "metadata": {},
     "output_type": "execute_result"
    }
   ],
   "source": [
    "#inputs = [(-50, -995), (-49, -975), (-48, -955), (-47, -935), (-46, -915)]\n",
    "# compute the mean of the gradients\n",
    "grad = vector_mean([linear_gradient(x, y, theta) for x, y in inputs])\n",
    "grad"
   ]
  },
  {
   "cell_type": "code",
   "execution_count": 153,
   "metadata": {},
   "outputs": [],
   "source": [
    "# take a step in that direction\n",
    "theta = gradient_step(theta, grad, -learning_rate)"
   ]
  },
  {
   "cell_type": "code",
   "execution_count": 154,
   "metadata": {},
   "outputs": [
    {
     "name": "stdout",
     "output_type": "stream",
     "text": [
      "0 [10.846107929186424, 0.3669060623242528]\n",
      "100 [19.997719385576843, 1.2027756157064122]\n",
      "200 [19.998133052388674, 1.8915311058499984]\n",
      "300 [19.998471686687566, 2.45535741688973]\n",
      "400 [19.998748898165758, 2.916914694573862]\n",
      "500 [19.998975827935993, 3.294752898311352]\n",
      "600 [19.99916159629218, 3.604057322932017]\n",
      "700 [19.999313669253446, 3.8572588947783357]\n",
      "800 [19.999438158623025, 4.0645337698923045]\n",
      "900 [19.999540067621233, 4.234212313118681]\n",
      "1000 [19.999623491964627, 4.373113894970283]\n",
      "1100 [19.999691784472574, 4.486820961721426]\n",
      "1200 [19.999747689816893, 4.579903393590077]\n",
      "1300 [19.99979345483003, 4.65610216795072]\n",
      "1400 [19.999830918805127, 4.718479708991523]\n",
      "1500 [19.99986158741711, 4.769542966359436]\n",
      "1600 [19.999886693235656, 4.811344169316701]\n",
      "1700 [19.999907245262115, 4.845563305712269]\n",
      "1800 [19.9999240694812, 4.873575640593056]\n",
      "1900 [19.99993784205727, 4.8965069880239795]\n",
      "2000 [19.999949116509338, 4.915278957487997]\n",
      "2100 [19.999958345956955, 4.9306459933161095]\n",
      "2200 [19.999965901331073, 4.943225695759967]\n",
      "2300 [19.999972086281726, 4.953523642309074]\n",
      "2400 [19.99997714938171, 4.96195370681985]\n",
      "2500 [19.999981294116708, 4.968854693081242]\n",
      "2600 [19.99998468706337, 4.974503951318717]\n",
      "2700 [19.99998746458403, 4.97912852488325]\n",
      "2800 [19.999989738307068, 4.982914275110053]\n",
      "2900 [19.999991599613285, 4.986013351074514]\n",
      "3000 [19.99999312330846, 4.988550304454459]\n",
      "3100 [19.99999437062981, 4.990627095254623]\n",
      "3200 [19.99999539170711, 4.992327189573166]\n",
      "3300 [19.999996227577395, 4.993718914099158]\n",
      "3400 [19.99999691183424, 4.9948582021581345]\n",
      "3500 [19.99999747197789, 4.9957908416691]\n",
      "3600 [19.999997930520482, 4.99655431535827]\n",
      "3700 [19.999998305890813, 4.997179307187595]\n",
      "3800 [19.999998613175, 4.997690935541339]\n",
      "3900 [19.999998864722773, 4.998109762732478]\n",
      "4000 [19.99999907064382, 4.998452621400791]\n",
      "4100 [19.999999239214095, 4.998733291015671]\n",
      "4200 [19.99999937720844, 4.99896305167216]\n",
      "4300 [19.99999949017282, 4.999151137437321]\n",
      "4400 [19.999999582647277, 4.9993051074668085]\n",
      "4500 [19.999999658348354, 4.999431149806916]\n",
      "4600 [19.999999720318474, 4.9995343300917465]\n",
      "4700 [19.99999977104821, 4.9996187951308]\n",
      "4800 [19.999999812576384, 4.999687939568941]\n",
      "4900 [19.999999846572017, 4.9997445423170035]\n",
      "5000 [19.99999987440139, 4.999790878236049]\n"
     ]
    }
   ],
   "source": [
    "for epoch in range(5001):\n",
    "    # compute the mean of the gradients\n",
    "    grad = vector_mean([linear_gradient(x, y, theta) for x, y in inputs])\n",
    "    # take a step in that direction\n",
    "    theta = gradient_step(theta, grad, -learning_rate)\n",
    "    if epoch % 100 == 0:\n",
    "        print(epoch, theta)"
   ]
  },
  {
   "cell_type": "code",
   "execution_count": 155,
   "metadata": {},
   "outputs": [],
   "source": [
    "# Minibatch gradient descent\n",
    "from typing import TypeVar, List, Iterator\n",
    "\n",
    "T = TypeVar('T')  # this allows us to type \"generic\" functions\n",
    "\n",
    "def minibatches(dataset: List[T],\n",
    "                batch_size: int,\n",
    "                shuffle: bool = True) -> Iterator[List[T]]:\n",
    "    \"\"\"Generates `batch_size`-sized minibatches from the dataset\"\"\"\n",
    "    # Start indexes 0, batch_size, 2 * batch_size, ...\n",
    "    batch_starts = [start for start in range(0, len(dataset), batch_size)]\n",
    "\n",
    "    if shuffle: random.shuffle(batch_starts)  # shuffle the batches\n",
    "\n",
    "    for start in batch_starts:\n",
    "        end = start + batch_size\n",
    "        yield dataset[start:end]"
   ]
  },
  {
   "cell_type": "code",
   "execution_count": 160,
   "metadata": {},
   "outputs": [
    {
     "name": "stdout",
     "output_type": "stream",
     "text": [
      "0 [18.699906186758337, -0.6209055533513304]\n",
      "100 [20.13727990930935, 3.2661951680241144]\n",
      "200 [19.998045599074086, 4.498650141308391]\n",
      "300 [19.99979018923537, 4.894844820245764]\n",
      "400 [20.00131588562139, 4.979196326913925]\n",
      "500 [20.000786531808302, 4.996089672914272]\n",
      "600 [19.999989736570015, 4.999269340012567]\n",
      "700 [20.00000443995014, 4.999843396100309]\n",
      "800 [19.99998387055264, 4.999963422686699]\n",
      "900 [19.999999627276924, 4.9999923132652295]\n"
     ]
    }
   ],
   "source": [
    "# Minibatch gradient descent example\n",
    "    \n",
    "theta = [random.uniform(-1, 1), random.uniform(-1, 1)]\n",
    "\n",
    "for epoch in range(1000):\n",
    "    for batch in minibatches(inputs, batch_size=20):\n",
    "        grad = vector_mean([linear_gradient(x, y, theta) for x, y in batch])\n",
    "        theta = gradient_step(theta, grad, -learning_rate)\n",
    "    if epoch % 100 == 0:\n",
    "        print(epoch, theta)\n",
    "\n",
    "slope, intercept = theta\n",
    "assert 19.9 < slope < 20.1,   \"slope should be about 20\"\n",
    "assert 4.9 < intercept < 5.1, \"intercept should be about 5\""
   ]
  },
  {
   "cell_type": "code",
   "execution_count": 164,
   "metadata": {},
   "outputs": [
    {
     "name": "stdout",
     "output_type": "stream",
     "text": [
      "0 [20.08554902655376, 0.7420526821561005]\n",
      "1 [20.08187797850584, 0.9247346577510066]\n",
      "2 [20.078365095070183, 1.0995788757622442]\n",
      "3 [20.07500293365887, 1.2669216186250032]\n",
      "4 [20.071785036901492, 1.4270847282964576]\n",
      "5 [20.068705197492037, 1.580376238276352]\n",
      "6 [20.065757475135896, 1.7270909655853186]\n",
      "7 [20.06293623025658, 1.8675110787830798]\n",
      "8 [20.06023602840389, 2.001906640689462]\n",
      "9 [20.057651681868016, 2.130536127367937]\n",
      "10 [20.055178203001066, 2.2536469250588107]\n",
      "11 [20.05281084041364, 2.37147580598555]\n",
      "12 [20.050545076191923, 2.4842493847612825]\n",
      "13 [20.048376487475686, 2.5921845527106844]\n",
      "14 [20.046300967999283, 2.6954888958171415]\n",
      "15 [20.044314467618506, 2.7943610938357737]\n",
      "16 [20.042413221182976, 2.8889913024713803]\n",
      "17 [20.04059353006525, 2.979561519194737]\n",
      "18 [20.03885192012222, 3.066245932826551]\n",
      "19 [20.037185039757738, 3.149211259295542]\n",
      "20 [20.035589641600158, 3.2286170608880598]\n",
      "21 [20.03406271659023, 3.3046160545050496]\n",
      "22 [20.032601287727008, 3.3773544051955553]\n",
      "23 [20.031202595945228, 3.446972007273781]\n",
      "24 [20.029863883223438, 3.513602752665438]\n",
      "25 [20.028582593098246, 3.577374787900947]\n",
      "26 [20.027356301249924, 3.6384107627060613]\n",
      "27 [20.026182619309328, 3.696828064826066]\n",
      "28 [20.02505927222374, 3.7527390446800655]\n",
      "29 [20.023984139149412, 3.8062512329216056]\n",
      "30 [20.02295512619014, 3.8574675469382]\n",
      "31 [20.02197027111184, 3.9064864884280834]\n",
      "32 [20.021027663948352, 3.953402332996571]\n",
      "33 [20.020125489870754, 3.998305311128286]\n",
      "34 [20.01926205262812, 4.041281782826031]\n",
      "35 [20.018435624037043, 4.082414402292076]\n",
      "36 [20.017644661424534, 4.121782277217072]\n",
      "37 [20.01688764619556, 4.159461122223822]\n",
      "38 [20.016163113993827, 4.195523403359226]\n",
      "39 [20.015469633339983, 4.230038476680437]\n",
      "40 [20.014805919859576, 4.2630727228939715]\n",
      "41 [20.014170713632595, 4.29468967598141]\n",
      "42 [20.01356272999317, 4.3249501431215345]\n",
      "43 [20.012980829764164, 4.353912322056626]\n",
      "44 [20.01242391004454, 4.381631914516635]\n",
      "45 [20.01189087311144, 4.408162232192392]\n",
      "46 [20.011380708247156, 4.433554299294959]\n",
      "47 [20.010892450483148, 4.45785695150085]\n",
      "48 [20.010425107255706, 4.48111692847187]\n",
      "49 [20.00997783150086, 4.503378964608876]\n",
      "50 [20.0095497424976, 4.524685875589079]\n",
      "51 [20.00914001916245, 4.545078639805687]\n",
      "52 [20.008747887094692, 4.564596477833143]\n",
      "53 [20.008372570560898, 4.583276927360702]\n",
      "54 [20.008013361040373, 4.601155915428473]\n",
      "55 [20.007669560116597, 4.618267827774416]\n",
      "56 [20.007340504855282, 4.634645574675262]\n",
      "57 [20.007025561728657, 4.650320654391516]\n",
      "58 [20.006724127893357, 4.665323213834622]\n",
      "59 [20.00643565536602, 4.679682107195208]\n",
      "60 [20.00615953336634, 4.693424950175594]\n",
      "61 [20.00589527045414, 4.706578173408762]\n",
      "62 [20.005642334933825, 4.719167073825926]\n",
      "63 [20.005400262680816, 4.7312158630338965]\n",
      "64 [20.005168570748676, 4.742747713938976]\n",
      "65 [20.004946812213003, 4.75378480488941]\n",
      "66 [20.00473458920077, 4.764348363254698]\n",
      "67 [20.0045314378482, 4.7744587050767695]\n",
      "68 [20.004337040688473, 4.784135275203462]\n",
      "69 [20.00415095238495, 4.793396684151437]\n",
      "70 [20.003972881007318, 4.802260743971009]\n",
      "71 [20.003802409453233, 4.810744502235982]\n",
      "72 [20.003639283362965, 4.8188642752026976]\n",
      "73 [20.00348314366188, 4.826635679558555]\n",
      "74 [20.00333370612175, 4.834073661453539]\n",
      "75 [20.003190670213908, 4.841192525823579]\n",
      "76 [20.003053779707574, 4.848005964008514]\n",
      "77 [20.00292276412638, 4.854527080144758]\n",
      "78 [20.002797361758358, 4.860768415817661]\n",
      "79 [20.002677356331372, 4.866741974855855]\n",
      "80 [20.002562491013848, 4.8724592460190275]\n",
      "81 [20.002452537544766, 4.877931224516476]\n",
      "82 [20.002347306601035, 4.883168434132641]\n",
      "83 [20.002246604588713, 4.888180947736677]\n",
      "84 [20.002150210353005, 4.892978405641278]\n",
      "85 [20.00205796356001, 4.897570034544469]\n",
      "86 [20.001969680531857, 4.9019646656295155]\n",
      "87 [20.001885165385907, 4.90617075054121]\n",
      "88 [20.00180427733718, 4.910196378267493]\n",
      "89 [20.001726865751362, 4.914049291257537]\n",
      "90 [20.00165277856184, 4.9177368998079505]\n",
      "91 [20.001581867849243, 4.921266296116155]\n",
      "92 [20.001514008868718, 4.924644268231594]\n",
      "93 [20.001449046481294, 4.927877312689459]\n",
      "94 [20.001386889628698, 4.930971647524543]\n",
      "95 [20.00132737557066, 4.933933223754511]\n",
      "96 [20.001270415160345, 4.936767736777832]\n",
      "97 [20.001215927321145, 4.939480638691669]\n",
      "98 [20.001163752721197, 4.942077147106964]\n",
      "99 [20.001113821450932, 4.944562255371513]\n"
     ]
    }
   ],
   "source": [
    "# Stochastic gradient descent example\n",
    "    \n",
    "theta = [random.uniform(-1, 1), random.uniform(-1, 1)]\n",
    "\n",
    "for epoch in range(100):\n",
    "    for x, y in inputs:\n",
    "        grad = linear_gradient(x, y, theta)\n",
    "        theta = gradient_step(theta, grad, -learning_rate)\n",
    "    #if epoch % 100 == 0:\n",
    "    print(epoch, theta)\n",
    "\n",
    "slope, intercept = theta\n",
    "assert 19.9 < slope < 20.1,   \"slope should be about 20\"\n",
    "assert 4.9 < intercept < 5.1, \"intercept should be about 5\""
   ]
  },
  {
   "cell_type": "code",
   "execution_count": null,
   "metadata": {},
   "outputs": [],
   "source": []
  },
  {
   "cell_type": "code",
   "execution_count": null,
   "metadata": {},
   "outputs": [],
   "source": []
  },
  {
   "cell_type": "code",
   "execution_count": null,
   "metadata": {},
   "outputs": [],
   "source": []
  },
  {
   "cell_type": "code",
   "execution_count": null,
   "metadata": {},
   "outputs": [],
   "source": []
  }
 ],
 "metadata": {
  "kernelspec": {
   "display_name": "Python 3",
   "language": "python",
   "name": "python3"
  },
  "language_info": {
   "codemirror_mode": {
    "name": "ipython",
    "version": 3
   },
   "file_extension": ".py",
   "mimetype": "text/x-python",
   "name": "python",
   "nbconvert_exporter": "python",
   "pygments_lexer": "ipython3",
   "version": "3.7.1"
  }
 },
 "nbformat": 4,
 "nbformat_minor": 2
}
