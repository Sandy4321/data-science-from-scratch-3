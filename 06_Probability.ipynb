{
 "cells": [
  {
   "cell_type": "markdown",
   "metadata": {},
   "source": [
    "# Probability"
   ]
  },
  {
   "cell_type": "code",
   "execution_count": 4,
   "metadata": {},
   "outputs": [],
   "source": [
    "import enum, random"
   ]
  },
  {
   "cell_type": "code",
   "execution_count": 5,
   "metadata": {},
   "outputs": [],
   "source": [
    "# An Enum is a typed set of enumerated values. We can use them\n",
    "# to make our code more descriptive and readable.\n",
    "class Kid(enum.Enum):\n",
    "    BOY = 0\n",
    "    GIRL = 1"
   ]
  },
  {
   "cell_type": "code",
   "execution_count": 6,
   "metadata": {},
   "outputs": [],
   "source": [
    "def random_kid() -> Kid:\n",
    "    return random.choice([Kid.BOY, Kid.GIRL])"
   ]
  },
  {
   "cell_type": "code",
   "execution_count": 7,
   "metadata": {},
   "outputs": [],
   "source": [
    "both_girls = 0\n",
    "older_girl = 0\n",
    "either_girl = 0"
   ]
  },
  {
   "cell_type": "code",
   "execution_count": 8,
   "metadata": {},
   "outputs": [],
   "source": [
    "random.seed(0)\n",
    "\n",
    "for _ in range(10000):\n",
    "    younger = random_kid()\n",
    "    older = random_kid()\n",
    "    \n",
    "    if older == Kid.GIRL:\n",
    "        older_girl += 1\n",
    "        \n",
    "    if older == Kid.GIRL and younger == Kid.GIRL:\n",
    "        both_girls += 1\n",
    "        \n",
    "    if older == Kid.GIRL or younger == Kid.GIRL:\n",
    "        either_girl += 1"
   ]
  },
  {
   "cell_type": "code",
   "execution_count": 10,
   "metadata": {},
   "outputs": [
    {
     "name": "stdout",
     "output_type": "stream",
     "text": [
      "4937\n",
      "2472\n",
      "7464\n"
     ]
    }
   ],
   "source": [
    "print(older_girl)\n",
    "print(both_girls)\n",
    "print(either_girl)"
   ]
  },
  {
   "cell_type": "code",
   "execution_count": 9,
   "metadata": {},
   "outputs": [
    {
     "name": "stdout",
     "output_type": "stream",
     "text": [
      "P(both | older): 0.5007089325501317\n",
      "P(both | either):  0.3311897106109325\n"
     ]
    }
   ],
   "source": [
    "print(\"P(both | older):\", both_girls / older_girl)     # 0.514 ~ 1/2\n",
    "print(\"P(both | either): \", both_girls / either_girl)  # 0.342 ~ 1/3\n",
    "    \n",
    "assert 0.48 < both_girls / older_girl < 0.52\n",
    "assert 0.30 < both_girls / either_girl < 0.35"
   ]
  },
  {
   "cell_type": "markdown",
   "metadata": {},
   "source": [
    "## Probability Density Function (PDF) for a uniform distribution"
   ]
  },
  {
   "cell_type": "code",
   "execution_count": 11,
   "metadata": {},
   "outputs": [],
   "source": [
    "def uniform_pdf(x: float) -> float:\n",
    "    return 1 if 0 <= x < 1 else 0"
   ]
  },
  {
   "cell_type": "code",
   "execution_count": 13,
   "metadata": {},
   "outputs": [
    {
     "data": {
      "text/plain": [
       "1"
      ]
     },
     "execution_count": 13,
     "metadata": {},
     "output_type": "execute_result"
    }
   ],
   "source": [
    "uniform_pdf(0.34)"
   ]
  },
  {
   "cell_type": "code",
   "execution_count": 61,
   "metadata": {},
   "outputs": [
    {
     "data": {
      "text/plain": [
       "[-2.0,\n",
       " -1.99,\n",
       " -1.98,\n",
       " -1.97,\n",
       " -1.96,\n",
       " -1.95,\n",
       " -1.94,\n",
       " -1.93,\n",
       " -1.92,\n",
       " -1.91,\n",
       " -1.9,\n",
       " -1.89,\n",
       " -1.88,\n",
       " -1.87,\n",
       " -1.86,\n",
       " -1.85,\n",
       " -1.84,\n",
       " -1.83,\n",
       " -1.82,\n",
       " -1.81,\n",
       " -1.8,\n",
       " -1.79,\n",
       " -1.78,\n",
       " -1.77,\n",
       " -1.76,\n",
       " -1.75,\n",
       " -1.74,\n",
       " -1.73,\n",
       " -1.72,\n",
       " -1.71,\n",
       " -1.7,\n",
       " -1.69,\n",
       " -1.68,\n",
       " -1.67,\n",
       " -1.66,\n",
       " -1.65,\n",
       " -1.64,\n",
       " -1.63,\n",
       " -1.62,\n",
       " -1.61,\n",
       " -1.6,\n",
       " -1.59,\n",
       " -1.58,\n",
       " -1.57,\n",
       " -1.56,\n",
       " -1.55,\n",
       " -1.54,\n",
       " -1.53,\n",
       " -1.52,\n",
       " -1.51,\n",
       " -1.5,\n",
       " -1.49,\n",
       " -1.48,\n",
       " -1.47,\n",
       " -1.46,\n",
       " -1.45,\n",
       " -1.44,\n",
       " -1.43,\n",
       " -1.42,\n",
       " -1.41,\n",
       " -1.4,\n",
       " -1.39,\n",
       " -1.38,\n",
       " -1.37,\n",
       " -1.36,\n",
       " -1.35,\n",
       " -1.34,\n",
       " -1.33,\n",
       " -1.32,\n",
       " -1.31,\n",
       " -1.3,\n",
       " -1.29,\n",
       " -1.28,\n",
       " -1.27,\n",
       " -1.26,\n",
       " -1.25,\n",
       " -1.24,\n",
       " -1.23,\n",
       " -1.22,\n",
       " -1.21,\n",
       " -1.2,\n",
       " -1.19,\n",
       " -1.18,\n",
       " -1.17,\n",
       " -1.16,\n",
       " -1.15,\n",
       " -1.14,\n",
       " -1.13,\n",
       " -1.12,\n",
       " -1.11,\n",
       " -1.1,\n",
       " -1.09,\n",
       " -1.08,\n",
       " -1.07,\n",
       " -1.06,\n",
       " -1.05,\n",
       " -1.04,\n",
       " -1.03,\n",
       " -1.02,\n",
       " -1.01,\n",
       " -1.0,\n",
       " -0.99,\n",
       " -0.98,\n",
       " -0.97,\n",
       " -0.96,\n",
       " -0.95,\n",
       " -0.94,\n",
       " -0.93,\n",
       " -0.92,\n",
       " -0.91,\n",
       " -0.9,\n",
       " -0.89,\n",
       " -0.88,\n",
       " -0.87,\n",
       " -0.86,\n",
       " -0.85,\n",
       " -0.84,\n",
       " -0.83,\n",
       " -0.82,\n",
       " -0.81,\n",
       " -0.8,\n",
       " -0.79,\n",
       " -0.78,\n",
       " -0.77,\n",
       " -0.76,\n",
       " -0.75,\n",
       " -0.74,\n",
       " -0.73,\n",
       " -0.72,\n",
       " -0.71,\n",
       " -0.7,\n",
       " -0.69,\n",
       " -0.68,\n",
       " -0.67,\n",
       " -0.66,\n",
       " -0.65,\n",
       " -0.64,\n",
       " -0.63,\n",
       " -0.62,\n",
       " -0.61,\n",
       " -0.6,\n",
       " -0.59,\n",
       " -0.58,\n",
       " -0.57,\n",
       " -0.56,\n",
       " -0.55,\n",
       " -0.54,\n",
       " -0.53,\n",
       " -0.52,\n",
       " -0.51,\n",
       " -0.5,\n",
       " -0.49,\n",
       " -0.48,\n",
       " -0.47,\n",
       " -0.46,\n",
       " -0.45,\n",
       " -0.44,\n",
       " -0.43,\n",
       " -0.42,\n",
       " -0.41,\n",
       " -0.4,\n",
       " -0.39,\n",
       " -0.38,\n",
       " -0.37,\n",
       " -0.36,\n",
       " -0.35,\n",
       " -0.34,\n",
       " -0.33,\n",
       " -0.32,\n",
       " -0.31,\n",
       " -0.3,\n",
       " -0.29,\n",
       " -0.28,\n",
       " -0.27,\n",
       " -0.26,\n",
       " -0.25,\n",
       " -0.24,\n",
       " -0.23,\n",
       " -0.22,\n",
       " -0.21,\n",
       " -0.2,\n",
       " -0.19,\n",
       " -0.18,\n",
       " -0.17,\n",
       " -0.16,\n",
       " -0.15,\n",
       " -0.14,\n",
       " -0.13,\n",
       " -0.12,\n",
       " -0.11,\n",
       " -0.1,\n",
       " -0.09,\n",
       " -0.08,\n",
       " -0.07,\n",
       " -0.06,\n",
       " -0.05,\n",
       " -0.04,\n",
       " -0.03,\n",
       " -0.02,\n",
       " -0.01,\n",
       " 0.0,\n",
       " 0.01,\n",
       " 0.02,\n",
       " 0.03,\n",
       " 0.04,\n",
       " 0.05,\n",
       " 0.06,\n",
       " 0.07,\n",
       " 0.08,\n",
       " 0.09,\n",
       " 0.1,\n",
       " 0.11,\n",
       " 0.12,\n",
       " 0.13,\n",
       " 0.14,\n",
       " 0.15,\n",
       " 0.16,\n",
       " 0.17,\n",
       " 0.18,\n",
       " 0.19,\n",
       " 0.2,\n",
       " 0.21,\n",
       " 0.22,\n",
       " 0.23,\n",
       " 0.24,\n",
       " 0.25,\n",
       " 0.26,\n",
       " 0.27,\n",
       " 0.28,\n",
       " 0.29,\n",
       " 0.3,\n",
       " 0.31,\n",
       " 0.32,\n",
       " 0.33,\n",
       " 0.34,\n",
       " 0.35,\n",
       " 0.36,\n",
       " 0.37,\n",
       " 0.38,\n",
       " 0.39,\n",
       " 0.4,\n",
       " 0.41,\n",
       " 0.42,\n",
       " 0.43,\n",
       " 0.44,\n",
       " 0.45,\n",
       " 0.46,\n",
       " 0.47,\n",
       " 0.48,\n",
       " 0.49,\n",
       " 0.5,\n",
       " 0.51,\n",
       " 0.52,\n",
       " 0.53,\n",
       " 0.54,\n",
       " 0.55,\n",
       " 0.56,\n",
       " 0.57,\n",
       " 0.58,\n",
       " 0.59,\n",
       " 0.6,\n",
       " 0.61,\n",
       " 0.62,\n",
       " 0.63,\n",
       " 0.64,\n",
       " 0.65,\n",
       " 0.66,\n",
       " 0.67,\n",
       " 0.68,\n",
       " 0.69,\n",
       " 0.7,\n",
       " 0.71,\n",
       " 0.72,\n",
       " 0.73,\n",
       " 0.74,\n",
       " 0.75,\n",
       " 0.76,\n",
       " 0.77,\n",
       " 0.78,\n",
       " 0.79,\n",
       " 0.8,\n",
       " 0.81,\n",
       " 0.82,\n",
       " 0.83,\n",
       " 0.84,\n",
       " 0.85,\n",
       " 0.86,\n",
       " 0.87,\n",
       " 0.88,\n",
       " 0.89,\n",
       " 0.9,\n",
       " 0.91,\n",
       " 0.92,\n",
       " 0.93,\n",
       " 0.94,\n",
       " 0.95,\n",
       " 0.96,\n",
       " 0.97,\n",
       " 0.98,\n",
       " 0.99,\n",
       " 1.0,\n",
       " 1.01,\n",
       " 1.02,\n",
       " 1.03,\n",
       " 1.04,\n",
       " 1.05,\n",
       " 1.06,\n",
       " 1.07,\n",
       " 1.08,\n",
       " 1.09,\n",
       " 1.1,\n",
       " 1.11,\n",
       " 1.12,\n",
       " 1.13,\n",
       " 1.14,\n",
       " 1.15,\n",
       " 1.16,\n",
       " 1.17,\n",
       " 1.18,\n",
       " 1.19,\n",
       " 1.2,\n",
       " 1.21,\n",
       " 1.22,\n",
       " 1.23,\n",
       " 1.24,\n",
       " 1.25,\n",
       " 1.26,\n",
       " 1.27,\n",
       " 1.28,\n",
       " 1.29,\n",
       " 1.3,\n",
       " 1.31,\n",
       " 1.32,\n",
       " 1.33,\n",
       " 1.34,\n",
       " 1.35,\n",
       " 1.36,\n",
       " 1.37,\n",
       " 1.38,\n",
       " 1.39,\n",
       " 1.4,\n",
       " 1.41,\n",
       " 1.42,\n",
       " 1.43,\n",
       " 1.44,\n",
       " 1.45,\n",
       " 1.46,\n",
       " 1.47,\n",
       " 1.48,\n",
       " 1.49,\n",
       " 1.5,\n",
       " 1.51,\n",
       " 1.52,\n",
       " 1.53,\n",
       " 1.54,\n",
       " 1.55,\n",
       " 1.56,\n",
       " 1.57,\n",
       " 1.58,\n",
       " 1.59,\n",
       " 1.6,\n",
       " 1.61,\n",
       " 1.62,\n",
       " 1.63,\n",
       " 1.64,\n",
       " 1.65,\n",
       " 1.66,\n",
       " 1.67,\n",
       " 1.68,\n",
       " 1.69,\n",
       " 1.7,\n",
       " 1.71,\n",
       " 1.72,\n",
       " 1.73,\n",
       " 1.74,\n",
       " 1.75,\n",
       " 1.76,\n",
       " 1.77,\n",
       " 1.78,\n",
       " 1.79,\n",
       " 1.8,\n",
       " 1.81,\n",
       " 1.82,\n",
       " 1.83,\n",
       " 1.84,\n",
       " 1.85,\n",
       " 1.86,\n",
       " 1.87,\n",
       " 1.88,\n",
       " 1.89,\n",
       " 1.9,\n",
       " 1.91,\n",
       " 1.92,\n",
       " 1.93,\n",
       " 1.94,\n",
       " 1.95,\n",
       " 1.96,\n",
       " 1.97,\n",
       " 1.98,\n",
       " 1.99]"
      ]
     },
     "execution_count": 61,
     "metadata": {},
     "output_type": "execute_result"
    }
   ],
   "source": [
    "xs = [x / 100 for x in range(-200, 200)]\n",
    "xs"
   ]
  },
  {
   "cell_type": "code",
   "execution_count": 65,
   "metadata": {},
   "outputs": [
    {
     "data": {
      "image/png": "[encoded data removed]",
      "text/plain": [
       "<Figure size 432x288 with 1 Axes>"
      ]
     },
     "metadata": {
      "needs_background": "light"
     },
     "output_type": "display_data"
    }
   ],
   "source": [
    "plt.plot(xs,[uniform_pdf(x) for x in xs],'-',label='uniform')\n",
    "plt.xticks(range(-2, 3))\n",
    "plt.legend()\n",
    "plt.title(\"Uniform pdf\")\n",
    "plt.savefig('images/uniform_pdf.png')\n",
    "plt.show()"
   ]
  },
  {
   "cell_type": "markdown",
   "metadata": {},
   "source": [
    "## Cumulative Distribution Function (CDF) for a uniform distribution"
   ]
  },
  {
   "cell_type": "code",
   "execution_count": 14,
   "metadata": {},
   "outputs": [],
   "source": [
    "def uniform_cdf(x: float) -> float:\n",
    "    \"\"\"Returns the probability that a uniform random variable is <= x\"\"\"\n",
    "    if x < 0:   return 0    # uniform random is never less than 0\n",
    "    elif x < 1: return x    # e.g. P(X <= 0.4) = 0.4\n",
    "    else:       return 1    # uniform random is always less than 1"
   ]
  },
  {
   "cell_type": "code",
   "execution_count": 15,
   "metadata": {},
   "outputs": [
    {
     "data": {
      "text/plain": [
       "0.34"
      ]
     },
     "execution_count": 15,
     "metadata": {},
     "output_type": "execute_result"
    }
   ],
   "source": [
    "uniform_cdf(0.34)"
   ]
  },
  {
   "cell_type": "code",
   "execution_count": 66,
   "metadata": {},
   "outputs": [
    {
     "data": {
      "image/png": "[encoded data removed]",
      "text/plain": [
       "<Figure size 432x288 with 1 Axes>"
      ]
     },
     "metadata": {
      "needs_background": "light"
     },
     "output_type": "display_data"
    }
   ],
   "source": [
    "import matplotlib.pyplot as plt\n",
    "%matplotlib inline\n",
    "\n",
    "xs = [x / 2 for x in range(-3, 5)]\n",
    "\n",
    "plt.plot(xs,[uniform_cdf(x) for x in xs],'-',label='uniform')\n",
    "plt.xticks(range(-2, 3))\n",
    "plt.legend()\n",
    "plt.title(\"Uniform cdf\")\n",
    "plt.savefig('images/uniform_cdf.png')\n",
    "plt.show()"
   ]
  },
  {
   "cell_type": "markdown",
   "metadata": {},
   "source": [
    "## PDF for a normal distribution"
   ]
  },
  {
   "cell_type": "markdown",
   "metadata": {},
   "source": [
    "<img src=\"images/normal_pdf.png\" alt=\"Dot product\" style=\"width: 600px;\"/>"
   ]
  },
  {
   "cell_type": "code",
   "execution_count": 16,
   "metadata": {},
   "outputs": [],
   "source": [
    "import math\n",
    "SQRT_TWO_PI = math.sqrt(2 * math.pi)\n",
    "\n",
    "def normal_pdf(x: float, mu: float = 0, sigma: float = 1) -> float:\n",
    "    return (math.exp(-(x-mu) ** 2 / 2 / sigma ** 2) / (SQRT_TWO_PI * sigma))"
   ]
  },
  {
   "cell_type": "code",
   "execution_count": 68,
   "metadata": {},
   "outputs": [
    {
     "data": {
      "text/plain": [
       "[-5.0,\n",
       " -4.9,\n",
       " -4.8,\n",
       " -4.7,\n",
       " -4.6,\n",
       " -4.5,\n",
       " -4.4,\n",
       " -4.3,\n",
       " -4.2,\n",
       " -4.1,\n",
       " -4.0,\n",
       " -3.9,\n",
       " -3.8,\n",
       " -3.7,\n",
       " -3.6,\n",
       " -3.5,\n",
       " -3.4,\n",
       " -3.3,\n",
       " -3.2,\n",
       " -3.1,\n",
       " -3.0,\n",
       " -2.9,\n",
       " -2.8,\n",
       " -2.7,\n",
       " -2.6,\n",
       " -2.5,\n",
       " -2.4,\n",
       " -2.3,\n",
       " -2.2,\n",
       " -2.1,\n",
       " -2.0,\n",
       " -1.9,\n",
       " -1.8,\n",
       " -1.7,\n",
       " -1.6,\n",
       " -1.5,\n",
       " -1.4,\n",
       " -1.3,\n",
       " -1.2,\n",
       " -1.1,\n",
       " -1.0,\n",
       " -0.9,\n",
       " -0.8,\n",
       " -0.7,\n",
       " -0.6,\n",
       " -0.5,\n",
       " -0.4,\n",
       " -0.3,\n",
       " -0.2,\n",
       " -0.1,\n",
       " 0.0,\n",
       " 0.1,\n",
       " 0.2,\n",
       " 0.3,\n",
       " 0.4,\n",
       " 0.5,\n",
       " 0.6,\n",
       " 0.7,\n",
       " 0.8,\n",
       " 0.9,\n",
       " 1.0,\n",
       " 1.1,\n",
       " 1.2,\n",
       " 1.3,\n",
       " 1.4,\n",
       " 1.5,\n",
       " 1.6,\n",
       " 1.7,\n",
       " 1.8,\n",
       " 1.9,\n",
       " 2.0,\n",
       " 2.1,\n",
       " 2.2,\n",
       " 2.3,\n",
       " 2.4,\n",
       " 2.5,\n",
       " 2.6,\n",
       " 2.7,\n",
       " 2.8,\n",
       " 2.9,\n",
       " 3.0,\n",
       " 3.1,\n",
       " 3.2,\n",
       " 3.3,\n",
       " 3.4,\n",
       " 3.5,\n",
       " 3.6,\n",
       " 3.7,\n",
       " 3.8,\n",
       " 3.9,\n",
       " 4.0,\n",
       " 4.1,\n",
       " 4.2,\n",
       " 4.3,\n",
       " 4.4,\n",
       " 4.5,\n",
       " 4.6,\n",
       " 4.7,\n",
       " 4.8,\n",
       " 4.9]"
      ]
     },
     "execution_count": 68,
     "metadata": {},
     "output_type": "execute_result"
    }
   ],
   "source": [
    "xs = [x / 10 for x in range(-50, 50)]\n",
    "xs"
   ]
  },
  {
   "cell_type": "code",
   "execution_count": 29,
   "metadata": {},
   "outputs": [
    {
     "data": {
      "image/png": "[encoded data removed]",
      "text/plain": [
       "<Figure size 432x288 with 1 Axes>"
      ]
     },
     "metadata": {
      "needs_background": "light"
     },
     "output_type": "display_data"
    }
   ],
   "source": [
    "import matplotlib.pyplot as plt\n",
    "%matplotlib inline\n",
    "\n",
    "plt.plot(xs,[normal_pdf(x,sigma=1) for x in xs],'-',label='mu=0,sigma=1') # standard normal distribution\n",
    "plt.plot(xs,[normal_pdf(x,sigma=2) for x in xs],'--',label='mu=0,sigma=2')\n",
    "plt.plot(xs,[normal_pdf(x,sigma=0.5) for x in xs],':',label='mu=0,sigma=0.5')\n",
    "plt.plot(xs,[normal_pdf(x,mu=-1)   for x in xs],'-.',label='mu=-1,sigma=1')\n",
    "plt.legend()\n",
    "plt.title(\"Various Normal pdfs\")\n",
    "plt.savefig('images/various_normal_pdfs.png')\n",
    "plt.show()"
   ]
  },
  {
   "cell_type": "markdown",
   "metadata": {},
   "source": [
    "## CDF for a normal distribution"
   ]
  },
  {
   "cell_type": "code",
   "execution_count": 69,
   "metadata": {},
   "outputs": [],
   "source": [
    "def normal_cdf(x: float, mu: float = 0, sigma: float = 1) -> float:\n",
    "    return (1 + math.erf((x - mu) / math.sqrt(2) / sigma)) / 2"
   ]
  },
  {
   "cell_type": "code",
   "execution_count": 70,
   "metadata": {},
   "outputs": [],
   "source": [
    "xs = [x / 10.0 for x in range(-50, 50)]"
   ]
  },
  {
   "cell_type": "code",
   "execution_count": 71,
   "metadata": {},
   "outputs": [
    {
     "data": {
      "image/png": "[encoded data removed]",
      "text/plain": [
       "<Figure size 432x288 with 1 Axes>"
      ]
     },
     "metadata": {
      "needs_background": "light"
     },
     "output_type": "display_data"
    }
   ],
   "source": [
    "plt.plot(xs,[normal_cdf(x,sigma=1) for x in xs],'-',label='mu=0,sigma=1')\n",
    "plt.plot(xs,[normal_cdf(x,sigma=2) for x in xs],'--',label='mu=0,sigma=2')\n",
    "plt.plot(xs,[normal_cdf(x,sigma=0.5) for x in xs],':',label='mu=0,sigma=0.5')\n",
    "plt.plot(xs,[normal_cdf(x,mu=-1) for x in xs],'-.',label='mu=-1,sigma=1')\n",
    "plt.legend(loc=4) # bottom right\n",
    "plt.title(\"Various Normal cdfs\")\n",
    "plt.savefig('images/various_normal_cdfs.png')\n",
    "plt.show()"
   ]
  },
  {
   "cell_type": "markdown",
   "metadata": {},
   "source": [
    "## Normal CDF inverted"
   ]
  },
  {
   "cell_type": "code",
   "execution_count": 72,
   "metadata": {},
   "outputs": [],
   "source": [
    "def inverse_normal_cdf(p: float,\n",
    "                       mu: float = 0,\n",
    "                       sigma: float = 1,\n",
    "                       tolerance: float = 0.00001) -> float:\n",
    "    \"\"\"Find approximate inverse using binary search\"\"\"\n",
    "\n",
    "    # if not standard, compute standard and rescale\n",
    "    if mu != 0 or sigma != 1:\n",
    "        return mu + sigma * inverse_normal_cdf(p, tolerance=tolerance)\n",
    "\n",
    "    low_z = -10.0                      # normal_cdf(-10) is (very close to) 0\n",
    "    hi_z  =  10.0                      # normal_cdf(10)  is (very close to) 1\n",
    "    while hi_z - low_z > tolerance:\n",
    "        mid_z = (low_z + hi_z) / 2     # Consider the midpoint\n",
    "        mid_p = normal_cdf(mid_z)      # and the cdf's value there\n",
    "        if mid_p < p:\n",
    "            low_z = mid_z              # Midpoint too low, search above it\n",
    "        else:\n",
    "            hi_z = mid_z               # Midpoint too high, search below it\n",
    "\n",
    "    return mid_z"
   ]
  },
  {
   "cell_type": "code",
   "execution_count": 75,
   "metadata": {},
   "outputs": [
    {
     "data": {
      "text/plain": [
       "0.539827837277029"
      ]
     },
     "execution_count": 75,
     "metadata": {},
     "output_type": "execute_result"
    }
   ],
   "source": [
    "normal_cdf(0.1)"
   ]
  },
  {
   "cell_type": "code",
   "execution_count": 79,
   "metadata": {},
   "outputs": [
    {
     "data": {
      "text/plain": [
       "0.10043144226074219"
      ]
     },
     "execution_count": 79,
     "metadata": {},
     "output_type": "execute_result"
    }
   ],
   "source": [
    "inverse_normal_cdf(0.54)"
   ]
  },
  {
   "cell_type": "markdown",
   "metadata": {},
   "source": [
    "## Central Limit Theorem"
   ]
  },
  {
   "cell_type": "code",
   "execution_count": 80,
   "metadata": {},
   "outputs": [],
   "source": [
    "import random\n",
    "\n",
    "def bernoulli_trial(p: float) -> int:\n",
    "    \"\"\"Returns 1 with probability p and 0 with probability 1-p\"\"\"\n",
    "    return 1 if random.random() < p else 0"
   ]
  },
  {
   "cell_type": "code",
   "execution_count": 81,
   "metadata": {},
   "outputs": [],
   "source": [
    "def binomial(n: int, p: float) -> int:\n",
    "    \"\"\"Returns the sum of n bernoulli(p) trials\"\"\"\n",
    "    return sum(bernoulli_trial(p) for _ in range(n))"
   ]
  },
  {
   "cell_type": "code",
   "execution_count": 82,
   "metadata": {},
   "outputs": [],
   "source": [
    "from collections import Counter\n",
    "\n",
    "def binomial_histogram(p: float, n: int, num_points: int) -> None:\n",
    "    \"\"\"Picks points from a Binomial(n, p) and plots their histogram\"\"\"\n",
    "    data = [binomial(n, p) for _ in range(num_points)]\n",
    "\n",
    "    # use a bar chart to show the actual binomial samples\n",
    "    histogram = Counter(data)\n",
    "    plt.bar([x - 0.4 for x in histogram.keys()],\n",
    "            [v / num_points for v in histogram.values()],\n",
    "            0.8,\n",
    "            color='0.75')\n",
    "\n",
    "    mu = p * n\n",
    "    sigma = math.sqrt(n * p * (1 - p))\n",
    "\n",
    "    # use a line chart to show the normal approximation\n",
    "    xs = range(min(data), max(data) + 1)\n",
    "    ys = [normal_cdf(i + 0.5, mu, sigma) - normal_cdf(i - 0.5, mu, sigma)\n",
    "          for i in xs]\n",
    "    plt.plot(xs,ys)\n",
    "    plt.title(\"Binomial Distribution vs. Normal Approximation\")\n",
    "    plt.savefig('images/binomial_histogram.png')\n",
    "    plt.show()"
   ]
  },
  {
   "cell_type": "code",
   "execution_count": 83,
   "metadata": {},
   "outputs": [
    {
     "data": {
      "image/png": "[encoded data removed]",
      "text/plain": [
       "<Figure size 432x288 with 1 Axes>"
      ]
     },
     "metadata": {
      "needs_background": "light"
     },
     "output_type": "display_data"
    }
   ],
   "source": [
    "binomial_histogram(0.75, 100, 10000)"
   ]
  },
  {
   "cell_type": "code",
   "execution_count": null,
   "metadata": {},
   "outputs": [],
   "source": []
  },
  {
   "cell_type": "code",
   "execution_count": null,
   "metadata": {},
   "outputs": [],
   "source": []
  },
  {
   "cell_type": "code",
   "execution_count": null,
   "metadata": {},
   "outputs": [],
   "source": []
  }
 ],
 "metadata": {
  "kernelspec": {
   "display_name": "Python 3",
   "language": "python",
   "name": "python3"
  },
  "language_info": {
   "codemirror_mode": {
    "name": "ipython",
    "version": 3
   },
   "file_extension": ".py",
   "mimetype": "text/x-python",
   "name": "python",
   "nbconvert_exporter": "python",
   "pygments_lexer": "ipython3",
   "version": "3.7.1"
  }
 },
 "nbformat": 4,
 "nbformat_minor": 2
}
